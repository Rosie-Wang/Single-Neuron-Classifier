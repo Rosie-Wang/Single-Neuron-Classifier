{
 "cells": [
  {
   "cell_type": "code",
   "execution_count": 1,
   "metadata": {},
   "outputs": [],
   "source": [
    "import torch\n",
    "import torch.nn as nn\n",
    "import torch.nn.functional as F\n",
    "\n",
    "import matplotlib.pyplot as plt\n",
    "from matplotlib.pyplot import imshow\n",
    "import numpy as np\n",
    "from PIL import Image\n",
    "\n",
    "#LOAD DATA\n",
    "xTrain = np.loadtxt(\"traindata.csv\", delimiter =',')\n",
    "yTrain = np.loadtxt(\"trainlabel.csv\", delimiter =',')\n",
    "xValid = np.loadtxt(\"validdata.csv\", delimiter =',')\n",
    "yValid = np.loadtxt(\"validlabel.csv\", delimiter =',')\n",
    "\n",
    "#CONVERT FROM NUMPY ARRAY TO PYTORCH TENSORS\n",
    "Tdata = torch.from_numpy(xTrain) #(200,9)\n",
    "Tlabel = torch.from_numpy(yTrain) #(200)\n",
    "Vdata = torch.from_numpy(xValid) #(20,9)\n",
    "Vlabel = torch.from_numpy(yValid) #(20)\n",
    "\n",
    "#SET PARAMETERS\n",
    "epochs = 16\n",
    "learning_rate = 0.1\n",
    "seed = 2"
   ]
  },
  {
   "cell_type": "code",
   "execution_count": 2,
   "metadata": {},
   "outputs": [],
   "source": [
    "#SET RANDOM SEED \n",
    "torch.manual_seed(seed)\n",
    "\n",
    "#DEFINE SNC CLASS IN PYTORCH\n",
    "class SNC(nn.Module):\n",
    "    def __init__(self):\n",
    "        super(SNC, self).__init__()\n",
    "        self.fc1 = nn.Linear(9 , 1)\n",
    "\n",
    "    def forward(self, I):\n",
    "        x = self.fc1(I)\n",
    "        return x\n"
   ]
  },
  {
   "cell_type": "code",
   "execution_count": 3,
   "metadata": {},
   "outputs": [],
   "source": [
    "#ACCURACY FUNCTION\n",
    "def accuracy(predictions, label):\n",
    "    totalCor = 0\n",
    "    ind = 0\n",
    "    \n",
    "    for c in predictions.flatten():\n",
    "        if (c.item()>0.5):\n",
    "            r = 1.0\n",
    "        else:\n",
    "            r = 0.0\n",
    "        \n",
    "        if (r== label[ind].item()):\n",
    "            totalCor += 1\n",
    "        ind += 1\n",
    "    \n",
    "    return (totalCor/len(label))\n",
    "    "
   ]
  },
  {
   "cell_type": "code",
   "execution_count": 4,
   "metadata": {},
   "outputs": [],
   "source": [
    "#DISPLAYING WEIGHTS FUNCTION\n",
    "def dispKernel(kernel, ksize, isize):\n",
    "    # for normalizing\n",
    "    kmax = max(kernel)\n",
    "    kmin = min(kernel)\n",
    "    spread = kmax - kmin\n",
    "    # print(\"max,min\",kmax,kmin)\n",
    "    \n",
    "    dsize = int(isize / ksize)\n",
    "    # print(\"dsize:\",dsize)\n",
    "\n",
    "    a = np.full((isize, isize), 0.0)\n",
    "    \n",
    "    # loop through each element of kernel\n",
    "    for i in range(ksize):\n",
    "        for j in range(ksize):\n",
    "            # fill in the image for this kernel element\n",
    "            basei = i * dsize\n",
    "            basej = j * dsize\n",
    "            for k in range(dsize): \n",
    "                for l in range(dsize):\n",
    "                    a[basei + k][basej + l] = (kernel[(i * ksize) + j] - kmin) / spread\n",
    "\n",
    "    # print(a)\n",
    "\n",
    "    x = np.uint8(a * 255)\n",
    "    # print(x)\n",
    "    img = Image.fromarray(x, mode='P')\n",
    "    imshow(img, cmap='Greys_r')\n",
    "    plt.show()"
   ]
  },
  {
   "cell_type": "code",
   "execution_count": 5,
   "metadata": {},
   "outputs": [
    {
     "name": "stdout",
     "output_type": "stream",
     "text": [
      "Parameter Names and Initial (random) values: \n",
      "name: fc1.weight value: Parameter containing:\n",
      "tensor([[ 0.0765, -0.0793,  0.0914, -0.0170,  0.1424,  0.0794, -0.0383, -0.2695,\n",
      "          0.0761]], requires_grad=True)\n",
      "name: fc1.bias value: Parameter containing:\n",
      "tensor([-0.2951], requires_grad=True)\n"
     ]
    }
   ],
   "source": [
    "#INSTANTIATE AN SNC\n",
    "smallNN = SNC()\n",
    "\n",
    "#VISUALIZE AUTOMATICALLY CREATED PARAMETERS\n",
    "print(\"Parameter Names and Initial (random) values: \")\n",
    "for name, param in smallNN.named_parameters():\n",
    "    print(\"name:\",name, \"value:\", param)"
   ]
  },
  {
   "cell_type": "code",
   "execution_count": 6,
   "metadata": {},
   "outputs": [],
   "source": [
    "#DEFINE LOSS FUNCTION AND OPTIMIZER\n",
    "loss_function = torch.nn.MSELoss() #Define the loss function using mean square error \n",
    "\n",
    "optimizer = torch.optim.SGD(smallNN.parameters(),lr=learning_rate) #Choose Stochastic Gradient Descent (SDG) approach"
   ]
  },
  {
   "cell_type": "code",
   "execution_count": 7,
   "metadata": {},
   "outputs": [],
   "source": [
    "#STORAGE VARIABLES\n",
    "lossRec = []\n",
    "vlossRec = []\n",
    "nRec = []\n",
    "trainAccRec = []\n",
    "validAccRec = [] "
   ]
  },
  {
   "cell_type": "code",
   "execution_count": 8,
   "metadata": {},
   "outputs": [
    {
     "name": "stdout",
     "output_type": "stream",
     "text": [
      "loss:  0.3604  trainAcc:  0.6650  validAcc:  1.0000\n",
      "loss:  0.1090  trainAcc:  0.9850  validAcc:  1.0000\n",
      "loss:  0.0911  trainAcc:  0.9600  validAcc:  1.0000\n",
      "loss:  0.0856  trainAcc:  0.9500  validAcc:  1.0000\n",
      "loss:  0.0816  trainAcc:  0.9500  validAcc:  1.0000\n",
      "loss:  0.0783  trainAcc:  0.9550  validAcc:  1.0000\n",
      "loss:  0.0756  trainAcc:  0.9550  validAcc:  1.0000\n",
      "loss:  0.0734  trainAcc:  0.9500  validAcc:  1.0000\n",
      "loss:  0.0715  trainAcc:  0.9500  validAcc:  1.0000\n",
      "loss:  0.0699  trainAcc:  0.9500  validAcc:  1.0000\n",
      "loss:  0.0685  trainAcc:  0.9500  validAcc:  1.0000\n",
      "loss:  0.0674  trainAcc:  0.9550  validAcc:  1.0000\n",
      "loss:  0.0664  trainAcc:  0.9550  validAcc:  1.0000\n",
      "loss:  0.0656  trainAcc:  0.9550  validAcc:  1.0000\n",
      "loss:  0.0648  trainAcc:  0.9550  validAcc:  1.0000\n",
      "loss:  0.0642  trainAcc:  0.9550  validAcc:  1.0000\n"
     ]
    }
   ],
   "source": [
    "###### TRAINING LOOP #####\n",
    "\n",
    "for i in range(epochs):\n",
    "    optimizer.zero_grad()\n",
    "    predict = smallNN(Tdata.float()) #added the .float())\n",
    "    loss = loss_function(input=predict.squeeze(), target=Tlabel.float())\n",
    "    loss.backward()\n",
    "    optimizer.step()\n",
    "\n",
    "    trainAcc = accuracy(predict,Tlabel)\n",
    "\n",
    "    #predict = smallNN(Vdata.float()) #added the .float())))\n",
    "    #validAcc = accuracy(predict, Vlabel)\n",
    "    \n",
    "    predict = smallNN(Vdata.float()) #added the .float()))\n",
    "    vloss = loss_function(input=predict.squeeze(), target=Vlabel.float())\n",
    "    validAcc = accuracy(predict, Vlabel)    \n",
    "\n",
    "    print(\"loss: \", f'{loss:.4f}',\" trainAcc: \", f'{trainAcc:.4f}', \" validAcc: \", f'{validAcc:.4f}')\n",
    "    \n",
    "    #Accumulating data for plotting\n",
    "    lossRec.append(loss)\n",
    "    vlossRec.append(vloss)\n",
    "    nRec.append(i)\n",
    "    trainAccRec.append(trainAcc)\n",
    "    validAccRec.append(validAcc)\n",
    "\n",
    "\n",
    "### END ###"
   ]
  },
  {
   "cell_type": "code",
   "execution_count": 9,
   "metadata": {},
   "outputs": [
    {
     "name": "stdout",
     "output_type": "stream",
     "text": [
      "[tensor(0.3604, grad_fn=<MseLossBackward>), tensor(0.1090, grad_fn=<MseLossBackward>), tensor(0.0911, grad_fn=<MseLossBackward>), tensor(0.0856, grad_fn=<MseLossBackward>), tensor(0.0816, grad_fn=<MseLossBackward>), tensor(0.0783, grad_fn=<MseLossBackward>), tensor(0.0756, grad_fn=<MseLossBackward>), tensor(0.0734, grad_fn=<MseLossBackward>), tensor(0.0715, grad_fn=<MseLossBackward>), tensor(0.0699, grad_fn=<MseLossBackward>), tensor(0.0685, grad_fn=<MseLossBackward>), tensor(0.0674, grad_fn=<MseLossBackward>), tensor(0.0664, grad_fn=<MseLossBackward>), tensor(0.0656, grad_fn=<MseLossBackward>), tensor(0.0648, grad_fn=<MseLossBackward>), tensor(0.0642, grad_fn=<MseLossBackward>)]\n"
     ]
    },
    {
     "data": {
      "image/png": "[encoded data removed]",
      "text/plain": [
       "<Figure size 432x288 with 1 Axes>"
      ]
     },
     "metadata": {
      "needs_background": "light"
     },
     "output_type": "display_data"
    },
    {
     "data": {
      "image/png": "[encoded data removed]",
      "text/plain": [
       "<Figure size 432x288 with 1 Axes>"
      ]
     },
     "metadata": {
      "needs_background": "light"
     },
     "output_type": "display_data"
    }
   ],
   "source": [
    "#PLOTTING \n",
    "print(lossRec)\n",
    "plt.plot(nRec,lossRec,label = 'Train')\n",
    "plt.plot(nRec,vlossRec,label = 'Validation')\n",
    "plt.xlabel(\"Epoch\")\n",
    "plt.ylabel(\"Loss\") \n",
    "plt.title(\"Training vs. Validation Loss Curve\")\n",
    "plt.legend(['Training', 'Validation'], loc='upper left')\n",
    "plt.show() \n",
    "\n",
    "plt.plot(nRec,trainAccRec,label = 'Train')\n",
    "plt.plot(nRec,validAccRec,label = 'Validation')\n",
    "plt.xlabel(\"Epoch\")\n",
    "plt.ylabel(\"Accuracy\") \n",
    "plt.title(\"Training vs. Validation Accuracy Curve\")\n",
    "plt.legend(['Training', 'Validation'], loc='upper left')\n",
    "plt.show()"
   ]
  },
  {
   "cell_type": "code",
   "execution_count": 10,
   "metadata": {},
   "outputs": [
    {
     "name": "stdout",
     "output_type": "stream",
     "text": [
      "Model Weights\n",
      "name: fc1.weight value: Parameter containing:\n",
      "tensor([[ 0.2191, -0.1218,  0.1964, -0.1118,  0.2285, -0.0305,  0.1341, -0.2431,\n",
      "          0.1987]], requires_grad=True)\n",
      "name: fc1.bias value: Parameter containing:\n",
      "tensor([-0.1725], requires_grad=True)\n",
      "weights: [ 0.21913049 -0.12180535  0.19639425 -0.11176247  0.22847939 -0.03046213\n",
      "  0.13409959 -0.24312453  0.1987359 ]\n",
      "bias: -0.17247036\n"
     ]
    },
    {
     "data": {
      "image/png": "[encoded data removed]",
      "text/plain": [
       "<Figure size 432x288 with 1 Axes>"
      ]
     },
     "metadata": {
      "needs_background": "light"
     },
     "output_type": "display_data"
    }
   ],
   "source": [
    "print(\"Model Weights\")\n",
    "for name, param in smallNN.named_parameters():\n",
    "    print(\"name:\",name, \"value:\", param)\n",
    "    if (name ==\"fc1.weight\"):\n",
    "        weights = np.squeeze(param.detach().numpy())\n",
    "    else:\n",
    "        bias = np.squeeze(param.detach().numpy())\n",
    "\n",
    "print(\"weights:\", weights)\n",
    "print(\"bias:\", bias)\n",
    "\n",
    "dispKernel(weights,3,12)"
   ]
  }
 ],
 "metadata": {
  "kernelspec": {
   "display_name": "Python 3",
   "language": "python",
   "name": "python3"
  },
  "language_info": {
   "codemirror_mode": {
    "name": "ipython",
    "version": 3
   },
   "file_extension": ".py",
   "mimetype": "text/x-python",
   "name": "python",
   "nbconvert_exporter": "python",
   "pygments_lexer": "ipython3",
   "version": "3.7.6"
  }
 },
 "nbformat": 4,
 "nbformat_minor": 4
}
